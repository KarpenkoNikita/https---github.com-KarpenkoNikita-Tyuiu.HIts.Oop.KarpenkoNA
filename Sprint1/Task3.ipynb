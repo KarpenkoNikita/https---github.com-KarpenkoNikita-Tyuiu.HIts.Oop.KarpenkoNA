{
 "cells": [
  {
   "cell_type": "markdown",
   "metadata": {},
   "source": [
    "<h1 style=\"color:DodgerBlue\">Индивидальный проект</h1>"
   ]
  },
  {
   "cell_type": "markdown",
   "metadata": {},
   "source": [
    "<h2 style=\"color:DodgerBlue\">Название проекта:</h2>\n",
    "\n",
    "----\n",
    "\n",
    "### Вариант задания 7\n",
    "\n"
   ]
  },
  {
   "cell_type": "markdown",
   "metadata": {},
   "source": [
    "<h2 style=\"color:DodgerBlue\">Описание проекта:</h2>\n",
    "\n",
    "----\n",
    "\n",
    "Создать базовый класс BankAccount в C#, который будет представлять\n",
    "информацию об учетных записях в банке. На основе этого класса разработать 2-3\n",
    "производных класса, демонстрирующих принципы наследования и полиморфизма.\n",
    "В каждом из классов должны быть реализованы новые атрибуты и методы, а также\n",
    "переопределены некоторые методы базового класса для демонстрации\n",
    "полиморфизма.\n",
    "Требования к базовому классу BankAccount:\n",
    "• Атрибуты: Номер счета (AccountNumber), Баланс (Balance), Тип счета\n",
    "(AccountType).\n",
    "• Методы:\n",
    "o GetInfo(): метод для получения информации о счете в виде строки.\n",
    "o Deposit(decimal amount): метод для внесения денег на счет.\n",
    "o Withdraw(decimal amount): метод для снятия денег со счета.\n",
    "Требования к производным классам:\n",
    "1. Сберегательный счет (SavingsAccount): Должен содержать дополнительные\n",
    "атрибуты, такие как Процентная ставка (InterestRate). Метод Deposit() должен\n",
    "быть переопределен для добавления процентов к сумме вклада при\n",
    "внесении денег на счет.\n",
    "2. Текущий счет (CheckingAccount): Должен содержать дополнительные\n",
    "атрибуты, такие как Лимит овердрафта (OverdraftLimit).\n",
    "Метод Withdraw() должен быть переопределен для проверки и применения\n",
    "лимита овердрафта при снятии денег со счета.\n",
    "3. Инвестиционный счет (InvestmentAccount) (если требуется третий класс):\n",
    "Должен содержать дополнительные атрибуты, такие как Список активов\n",
    "(AssetsList). Метод GetInfo() должен быть переопределен для включения\n",
    "информации о списках активов в описании счета.\n",
    "\n",
    "\n",
    "#### Дополнительное задание\n",
    "Добавьте к сущестующим классам конструктора классов с использованием гетторов и сетторов и реализуйте взаимодействие объектов между собой"
   ]
  },
  {
   "cell_type": "markdown",
   "metadata": {},
   "source": [
    "<h2 style=\"color:DodgerBlue\">Реализация:</h2>\n",
    "\n",
    "----"
   ]
  },
  {
   "cell_type": "code",
   "execution_count": 1,
   "metadata": {
    "dotnet_interactive": {
     "language": "csharp"
    },
    "polyglot_notebook": {
     "kernelName": "csharp"
    }
   },
   "outputs": [
    {
     "name": "stdout",
     "output_type": "stream",
     "text": [
      "Сберегательный счет:\n",
      "Сберегательный счет: Баланс: ¤1,021,000.00, Процентная ставка: 5.000%\n",
      "Текущий счет:\n",
      "Текущий счет: Проверка баланса: ¤900.00, Лимит овердрафта: ¤100.00\n",
      "Инвестиционный счет:\n",
      "Инвестиционный счет: Баланс: ¤3,000.00, Активы: Акция A, Облигация B\n",
      "Переведено ¤50,000.00 со сберегательного счета на текущий счет.\n",
      "Сберегательный счет: Баланс: ¤971,000.00, Процентная ставка: 5.000%\n",
      "Текущий счет: Проверка баланса: ¤50,900.00, Лимит овердрафта: ¤100.00\n"
     ]
    }
   ],
   "source": [
    "public class BankAccount\n",
    "{\n",
    "    private decimal balance;\n",
    "    public decimal Balance\n",
    "    {\n",
    "        get => balance;\n",
    "        protected set => balance = value; // Делаем сеттер защищенным\n",
    "    }\n",
    "\n",
    "    public BankAccount(decimal initialBalance)\n",
    "    {\n",
    "        Balance = initialBalance;\n",
    "    }\n",
    "\n",
    "    public virtual void Deposit(decimal amount) => Balance += amount;\n",
    "\n",
    "    public virtual void Withdraw(decimal amount)\n",
    "    {\n",
    "        if (amount <= Balance)\n",
    "        {\n",
    "            Balance -= amount;\n",
    "        }\n",
    "        else\n",
    "        {\n",
    "            System.Console.WriteLine(\"Недостаточно средств для снятия.\");\n",
    "        }\n",
    "    }\n",
    "\n",
    "    public virtual void GetInfo() => System.Console.WriteLine($\"Balance: {Balance:C}\");\n",
    "}\n",
    "\n",
    "public class SavingsAccount : BankAccount\n",
    "{\n",
    "    private decimal interestRate;\n",
    "    public decimal InterestRate\n",
    "    {\n",
    "        get => interestRate;\n",
    "        set => interestRate = value;\n",
    "    }\n",
    "\n",
    "    public SavingsAccount(decimal initialBalance, decimal interestRate) : base(initialBalance)\n",
    "    {\n",
    "        InterestRate = interestRate;\n",
    "    }\n",
    "\n",
    "    public override void Deposit(decimal amount) => Balance += amount * (1 + InterestRate);\n",
    "\n",
    "    public override void GetInfo() => System.Console.WriteLine($\"Сберегательный счет: Баланс: {Balance:C}, Процентная ставка: {InterestRate:P}\");\n",
    "}\n",
    "\n",
    "public class CheckingAccount : BankAccount\n",
    "{\n",
    "    private decimal overdraftLimit;\n",
    "    public decimal OverdraftLimit\n",
    "    {\n",
    "        get => overdraftLimit;\n",
    "        set => overdraftLimit = value;\n",
    "    }\n",
    "\n",
    "    public CheckingAccount(decimal initialBalance, decimal overdraftLimit) : base(initialBalance)\n",
    "    {\n",
    "        OverdraftLimit = overdraftLimit;\n",
    "    }\n",
    "\n",
    "    public override void Withdraw(decimal amount)\n",
    "    {\n",
    "        if (Balance + OverdraftLimit >= amount)\n",
    "        {\n",
    "            Balance -= amount;\n",
    "        }\n",
    "        else\n",
    "        {\n",
    "            System.Console.WriteLine(\"Сумма превышает лимит овердрафта.\");\n",
    "        }\n",
    "    }\n",
    "\n",
    "    public override void GetInfo() => System.Console.WriteLine($\"Текущий счет: Проверка баланса: {Balance:C}, Лимит овердрафта: {OverdraftLimit:C}\");\n",
    "}\n",
    "\n",
    "public class InvestmentAccount : BankAccount\n",
    "{\n",
    "    public System.Collections.Generic.List<string> Assets { get; private set; }\n",
    "\n",
    "    public InvestmentAccount(decimal initialBalance, System.Collections.Generic.List<string> assets) : base(initialBalance)\n",
    "    {\n",
    "        Assets = assets;\n",
    "    }\n",
    "\n",
    "    public override void GetInfo() => System.Console.WriteLine($\"Инвестиционный счет: Баланс: {Balance:C}, Активы: {string.Join(\", \", Assets)}\");\n",
    "}\n",
    "\n",
    "// Пример использования классов\n",
    "var savings = new SavingsAccount(1000000, 0.05m);\n",
    "System.Console.WriteLine(\"Сберегательный счет:\");\n",
    "savings.Deposit(20000);\n",
    "savings.GetInfo();\n",
    "\n",
    "var checking = new CheckingAccount(1000, 100);\n",
    "System.Console.WriteLine(\"Текущий счет:\");\n",
    "checking.Withdraw(100);\n",
    "checking.GetInfo();\n",
    "\n",
    "var investment = new InvestmentAccount(3000, new System.Collections.Generic.List<string> { \"Акция A\", \"Облигация B\" });\n",
    "System.Console.WriteLine(\"Инвестиционный счет:\");\n",
    "investment.GetInfo();\n",
    "\n",
    "// Пример взаимодействия: перевести средства со сберегательного счета на текущий\n",
    "decimal transferAmount = 50000;\n",
    "if (savings.Balance >= transferAmount)\n",
    "{\n",
    "    savings.Withdraw(transferAmount);\n",
    "    checking.Deposit(transferAmount);\n",
    "    System.Console.WriteLine($\"Переведено {transferAmount:C} со сберегательного счета на текущий счет.\");\n",
    "}\n",
    "else\n",
    "{\n",
    "    System.Console.WriteLine(\"Недостаточно средств на сберегательном счете для перевода.\");\n",
    "}\n",
    "\n",
    "savings.GetInfo();\n",
    "checking.GetInfo();\n"
   ]
  }
 ],
 "metadata": {
  "kernelspec": {
   "display_name": ".NET (C#)",
   "language": "C#",
   "name": ".net-csharp"
  },
  "polyglot_notebook": {
   "kernelInfo": {
    "defaultKernelName": "csharp",
    "items": [
     {
      "aliases": [],
      "languageName": "csharp",
      "name": "csharp"
     }
    ]
   }
  }
 },
 "nbformat": 4,
 "nbformat_minor": 2
}
