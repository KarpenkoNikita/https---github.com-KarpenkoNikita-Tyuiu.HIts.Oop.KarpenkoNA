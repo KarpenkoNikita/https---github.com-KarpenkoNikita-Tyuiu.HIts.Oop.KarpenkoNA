{
 "cells": [
  {
   "cell_type": "markdown",
   "metadata": {},
   "source": [
    "<h1 style=\"color:DodgerBlue\">Индивидальный проект</h1>"
   ]
  },
  {
   "cell_type": "markdown",
   "metadata": {},
   "source": [
    "<h2 style=\"color:DodgerBlue\">Название проекта:</h2>\n",
    "\n",
    "----\n",
    "\n",
    "### Вариант задания 7\n"
   ]
  },
  {
   "cell_type": "markdown",
   "metadata": {},
   "source": [
    "<h2 style=\"color:DodgerBlue\">Описание проекта:</h2>\n",
    "\n",
    "----\n",
    "\n",
    "Создать базовый класс BankAccount в C#, который будет представлять\n",
    "информацию об учетных записях в банке. На основе этого класса разработать 2-3\n",
    "производных класса, демонстрирующих принципы наследования и полиморфизма.\n",
    "В каждом из классов должны быть реализованы новые атрибуты и методы, а также\n",
    "переопределены некоторые методы базового класса для демонстрации\n",
    "полиморфизма.\n",
    "Требования к базовому классу BankAccount:\n",
    "• Атрибуты: Номер счета (AccountNumber), Баланс (Balance), Тип счета\n",
    "(AccountType).\n",
    "• Методы:\n",
    "o GetInfo(): метод для получения информации о счете в виде строки.\n",
    "o Deposit(decimal amount): метод для внесения денег на счет.\n",
    "o Withdraw(decimal amount): метод для снятия денег со счета.\n",
    "Требования к производным классам:\n",
    "1. Сберегательный счет (SavingsAccount): Должен содержать дополнительные\n",
    "атрибуты, такие как Процентная ставка (InterestRate). Метод Deposit() должен\n",
    "быть переопределен для добавления процентов к сумме вклада при\n",
    "внесении денег на счет.\n",
    "2. Текущий счет (CheckingAccount): Должен содержать дополнительные\n",
    "атрибуты, такие как Лимит овердрафта (OverdraftLimit).\n",
    "Метод Withdraw() должен быть переопределен для проверки и применения\n",
    "лимита овердрафта при снятии денег со счета.\n",
    "3. Инвестиционный счет (InvestmentAccount) (если требуется третий класс):\n",
    "Должен содержать дополнительные атрибуты, такие как Список активов\n",
    "(AssetsList). Метод GetInfo() должен быть переопределен для включения\n",
    "информации о списках активов в описании счета.\n"
   ]
  },
  {
   "cell_type": "markdown",
   "metadata": {},
   "source": [
    "<h2 style=\"color:DodgerBlue\">Реализация:</h2>\n",
    "\n",
    "----"
   ]
  },
  {
   "cell_type": "code",
   "execution_count": 2,
   "metadata": {
    "dotnet_interactive": {
     "language": "csharp"
    },
    "polyglot_notebook": {
     "kernelName": "csharp"
    }
   },
   "outputs": [],
   "source": [
    "class BankAccount\n",
    "{\n",
    "    public decimal Balance;                                                                //публичное поле класса для хранения денег\n",
    "    public virtual void Deposit(decimal amount) => Balance += amount;                      //внести деньги на счет\n",
    "    public virtual void Withdraw(decimal amount) => Balance -= amount;                     //снять деньги \n",
    "    public virtual void GetInfo() => Console.WriteLine($\"Balance: {Balance:C}\");           //показать информацию баланс\n",
    "}\n",
    "\n",
    "class SavingsAccount : BankAccount //класс сберегнательный счет добавить банковский счет\n",
    "{\n",
    "    public decimal InterestRate;   //процентная ставка (deciminal хранит тип данных с плавющей точкой)\n",
    "    public override void Deposit(decimal amount) => Balance += amount * (1 + InterestRate); \n",
    "    public override void GetInfo() => Console.WriteLine($\"Баланс сберегательного счета: {Balance:C}, Процентная ставка: {InterestRate:P}\"); //Balance:C - цифры в деньги 1500.75 в 1 500,75 $ а P - 0.05 в 5%\n",
    "}\n",
    "\n",
    "class CheckingAccount : BankAccount //класс проверки акк счет добавить банковский счет\n",
    "{\n",
    "    public decimal OverdraftLimit;  //максимальная сумма, на которую можно списывать с банковского счёта больше денег\n",
    "    public override void Withdraw(decimal amount) => Balance -= (Balance + OverdraftLimit >= amount) ? amount  : 0; //проверяется ammount можно ли снять сумму с учетом баланса и лимита  Да = вернется фммоунт, нет - нуль\n",
    "    public override void GetInfo() => Console.WriteLine($\"Проверка баланса аккаунта : {Balance:C}, Лимит овердрафта: {OverdraftLimit:C}\");\n",
    "}\n",
    "\n",
    "class InvestmentAccount : BankAccount\n",
    "{\n",
    "    public List<string> Assets;            //хранит различные активы в виде строк\n",
    "    public override void GetInfo() => Console.WriteLine($\"Инвест аккаунт: {Balance:C}, Активы: {string.Join(\", \", Assets)}\");\n",
    "}\n",
    "\n",
    "SavingsAccount savings = new SavingsAccount\n",
    "{\n",
    "    Balance = 1000000,                     // Начальный баланс\n",
    "    InterestRate = 0.05m                   // Процентная ставка 5%\n",
    "};\n",
    "Console.WriteLine(\"Сберегательный счет:\");\n",
    "savings.Deposit(20000);                    // Внесение денег с учетом процентной ставки\n",
    "savings.GetInfo();                         // Вывод информации о сберегательном счете\n",
    "\n",
    "\n",
    "\n",
    "\n",
    "CheckingAccount checking = new CheckingAccount\n",
    "{\n",
    "    Balance = 1000,                         // Начальный баланс\n",
    "    OverdraftLimit = 100                    // Лимит овердрафта\n",
    "};\n",
    "Console.WriteLine(\"Текущий счет:\");\n",
    "checking.Withdraw(100);                     // Снятие денег с учетом лимита овердрафта\n",
    "checking.GetInfo();                         // Вывод информации о текущем счете\n",
    "\n",
    "\n",
    "\n",
    "InvestmentAccount investment = new InvestmentAccount\n",
    "{\n",
    "    Balance = 3000,                                        // Начальный баланс\n",
    "    Assets = new List<string> { \"Акция A\", \"Облигация B\" } // Активы\n",
    "};\n",
    "Console.WriteLine(\"Инвестиционный счет:\");\n",
    "investment.GetInfo();                                      // Вывод информации об инвестиционном счете"
   ]
  }
 ],
 "metadata": {
  "kernelspec": {
   "display_name": ".NET (C#)",
   "language": "C#",
   "name": ".net-csharp"
  },
  "polyglot_notebook": {
   "kernelInfo": {
    "defaultKernelName": "csharp",
    "items": [
     {
      "aliases": [],
      "languageName": "csharp",
      "name": "csharp"
     }
    ]
   }
  }
 },
 "nbformat": 4,
 "nbformat_minor": 2
}
